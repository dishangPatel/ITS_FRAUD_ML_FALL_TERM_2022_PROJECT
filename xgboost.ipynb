{
 "cells": [
  {
   "cell_type": "code",
   "execution_count": 1,
   "id": "b9748267",
   "metadata": {
    "_cell_guid": "b1076dfc-b9ad-4769-8c92-a6c4dae69d19",
    "_uuid": "8f2839f25d086af736a60e9eeb907d3b93b6e0e5",
    "execution": {
     "iopub.execute_input": "2022-11-19T20:01:36.385904Z",
     "iopub.status.busy": "2022-11-19T20:01:36.385125Z",
     "iopub.status.idle": "2022-11-19T20:01:38.049310Z",
     "shell.execute_reply": "2022-11-19T20:01:38.048135Z"
    },
    "papermill": {
     "duration": 1.674233,
     "end_time": "2022-11-19T20:01:38.052238",
     "exception": false,
     "start_time": "2022-11-19T20:01:36.378005",
     "status": "completed"
    },
    "tags": []
   },
   "outputs": [],
   "source": [
    "import pandas as pd\n",
    "import numpy as  np\n",
    "from sklearn.model_selection import train_test_split,StratifiedKFold\n",
    "from xgboost import XGBClassifier\n",
    "from sklearn import metrics\n",
    "from hyperopt import fmin,tpe,hp,STATUS_OK,Trials,space_eval"
   ]
  },
  {
   "cell_type": "code",
   "execution_count": 2,
   "id": "40ce5194",
   "metadata": {
    "execution": {
     "iopub.execute_input": "2022-11-19T20:01:38.061306Z",
     "iopub.status.busy": "2022-11-19T20:01:38.060853Z",
     "iopub.status.idle": "2022-11-19T20:01:53.818166Z",
     "shell.execute_reply": "2022-11-19T20:01:53.816869Z"
    },
    "papermill": {
     "duration": 15.764773,
     "end_time": "2022-11-19T20:01:53.820821",
     "exception": false,
     "start_time": "2022-11-19T20:01:38.056048",
     "status": "completed"
    },
    "tags": []
   },
   "outputs": [],
   "source": [
    "dfTest = pd.read_csv('../input/preprocessedtestv3/preprocessedTestV3.csv')\n",
    "dfTrain = pd.read_csv('../input/preprocessedtrainv3/preprocessedTrainV3.csv')"
   ]
  },
  {
   "cell_type": "code",
   "execution_count": 3,
   "id": "c3c7a2ef",
   "metadata": {
    "execution": {
     "iopub.execute_input": "2022-11-19T20:01:53.829306Z",
     "iopub.status.busy": "2022-11-19T20:01:53.828911Z",
     "iopub.status.idle": "2022-11-19T20:01:53.834856Z",
     "shell.execute_reply": "2022-11-19T20:01:53.833778Z"
    },
    "papermill": {
     "duration": 0.012443,
     "end_time": "2022-11-19T20:01:53.836918",
     "exception": false,
     "start_time": "2022-11-19T20:01:53.824475",
     "status": "completed"
    },
    "tags": []
   },
   "outputs": [],
   "source": [
    "def evaluateModel(df,model):\n",
    "    \n",
    "    df = df - df.min()/df.max()-df.min()\n",
    "    \n",
    "    y_pred = model.predict(df)\n",
    "    \n",
    "    result = pd.DataFrame(y_pred)\n",
    "    \n",
    "    result.columns = ['isFraud']\n",
    "    result.to_csv(\"./result_xgb.csv\")\n",
    "    \n",
    "    print(\"Result file saved\")\n",
    "    "
   ]
  },
  {
   "cell_type": "code",
   "execution_count": 4,
   "id": "6defd8c8",
   "metadata": {
    "execution": {
     "iopub.execute_input": "2022-11-19T20:01:53.845645Z",
     "iopub.status.busy": "2022-11-19T20:01:53.844843Z",
     "iopub.status.idle": "2022-11-19T20:01:53.854620Z",
     "shell.execute_reply": "2022-11-19T20:01:53.853729Z"
    },
    "papermill": {
     "duration": 0.016322,
     "end_time": "2022-11-19T20:01:53.856714",
     "exception": false,
     "start_time": "2022-11-19T20:01:53.840392",
     "status": "completed"
    },
    "tags": []
   },
   "outputs": [],
   "source": [
    "def xgbClassifier(df,params=None):\n",
    "    \n",
    "    tmpPara = {'n_estimator':550,'eval_metric':'auc','verbosity':1,'n_jobs':-1,'reg_alpha':8.0,'colsample_bytree':0.8,'learning_rate':0.17500000000000002,'gamma':0.6000000000000001,'reg_lambda':1.20000000000000001,'max_depth':10,'min_child_weight':1.0,'scale_pos_weight':60.0,'subsample':0.700000000000001,'objective':'binary:logistic'}\n",
    "    \n",
    "    if(params!=None):\n",
    "        tmpPara = params\n",
    "    \n",
    "    X_train = df.drop(['isFraud'],axis=1)\n",
    "    Y_train = df['isFraud']\n",
    "    \n",
    "    X_train = X_train - X_train.min()/X_train.max() - X_train.min()\n",
    "    \n",
    "    skf = StratifiedKFold(n_splits=7)\n",
    "#     if()\n",
    "    xgbc = XGBClassifier(**tmpPara)\n",
    "    \n",
    "    for trainIndx,testIndx in skf.split(X_train,Y_train):\n",
    "        \n",
    "        Xtrain = X_train.iloc[trainIndx]\n",
    "        Ytrain = Y_train.iloc[trainIndx]\n",
    "        \n",
    "        Xtest = X_train.iloc[testIndx]\n",
    "        Ytest = Y_train.iloc[testIndx]\n",
    "    \n",
    "        xgbc.fit(Xtrain,Ytrain)\n",
    "        \n",
    "        print(\"Accuracy : \",xgbc.score(Xtest,Ytest))\n",
    "        \n",
    "        prob = xgbc.predict_proba(Xtest)[:,1]\n",
    "        \n",
    "        auc = metrics.roc_auc_score(Ytest,prob)\n",
    "        print(\"validation-AUC : \",auc,\"\\n===============================\")\n",
    "        \n",
    "        \n",
    "    return xgbc"
   ]
  },
  {
   "cell_type": "code",
   "execution_count": 5,
   "id": "f6141ee3",
   "metadata": {
    "execution": {
     "iopub.execute_input": "2022-11-19T20:01:53.865346Z",
     "iopub.status.busy": "2022-11-19T20:01:53.864665Z",
     "iopub.status.idle": "2022-11-19T20:01:56.317848Z",
     "shell.execute_reply": "2022-11-19T20:01:56.316815Z"
    },
    "papermill": {
     "duration": 2.46032,
     "end_time": "2022-11-19T20:01:56.320551",
     "exception": false,
     "start_time": "2022-11-19T20:01:53.860231",
     "status": "completed"
    },
    "tags": []
   },
   "outputs": [],
   "source": [
    "train,test = train_test_split(dfTrain,test_size=0.25,stratify=dfTrain['isFraud'])\n",
    "\n",
    "XTrain = train.drop(['isFraud'],axis=1)\n",
    "YTrain = train['isFraud']\n",
    "\n",
    "XTest = test.drop(['isFraud'],axis=1)\n",
    "YTest = test['isFraud']\n",
    "\n",
    "\n",
    "XTrain = XTrain - XTrain.min()/XTrain.max()-XTrain.min()\n",
    "XTest = XTest - XTest.min()/XTest.max()-XTest.min()\n",
    "\n",
    "\n",
    "def objectiveFn(paramSpace):\n",
    "    \n",
    "    xgbc = XGBClassifier(**paramSpace)    \n",
    "    xgbc.fit(XTrain,YTrain)\n",
    "    \n",
    "    prob = xgbc.predict_proba(XTest)[:,1]\n",
    "    auc = metrics.roc_auc_score(YTest,prob)\n",
    "    print(\"AUC : \",auc)\n",
    "    return {'loss':-auc,'status':STATUS_OK} # -ve auc minimization ==> +auc maximization\n"
   ]
  },
  {
   "cell_type": "code",
   "execution_count": 6,
   "id": "b490329b",
   "metadata": {
    "execution": {
     "iopub.execute_input": "2022-11-19T20:01:56.329583Z",
     "iopub.status.busy": "2022-11-19T20:01:56.328731Z",
     "iopub.status.idle": "2022-11-19T20:01:56.337649Z",
     "shell.execute_reply": "2022-11-19T20:01:56.336510Z"
    },
    "papermill": {
     "duration": 0.015683,
     "end_time": "2022-11-19T20:01:56.339902",
     "exception": false,
     "start_time": "2022-11-19T20:01:56.324219",
     "status": "completed"
    },
    "tags": []
   },
   "outputs": [],
   "source": [
    "paramSpace = {\n",
    "    'n_estimators' : hp.randint('n_estimators',300,800),\n",
    "    'max_depth' : hp.randint('max_depth',9,18),\n",
    "#     'grow_policy' : hp.randint('grow_policy',0,1),\n",
    "    'learning_rate' : hp.quniform('learning_rate',0.01,0.2,0.015),\n",
    "    'objective' : 'binary:logistic',\n",
    "    'booster':'gbtree',\n",
    "    'tree_method' : 'gpu_hist',\n",
    "    'n_jobs': -1,\n",
    "    'gamma' : hp.quniform('gamma',0.4,1,0.045),\n",
    "    'min_child_weight' : hp.quniform('min_child_weight',1,12,1),\n",
    "    'subsample':hp.quniform('subsample',0.55,1,0.045),\n",
    "    'colsample_bytree':hp.quniform('colsample_bytree', 0.65, 1, 0.048),\n",
    "    'reg_alpha' : hp.quniform('reg_alpha', 0, 10, 1),\n",
    "    'reg_lambda': hp.quniform('reg_lambda', 1, 2, 0.095),\n",
    "    'scale_pos_weight': hp.quniform('scale_pos_weight', 45, 200, 9), # helps in convergence for high imbalance\n",
    "    'base_score' : hp.quniform('base_score',0.67,0.72,0.045),\n",
    "    'eval_metric'  : 'auc',\n",
    "    'nthread':4\n",
    "}"
   ]
  },
  {
   "cell_type": "code",
   "execution_count": 7,
   "id": "dc36e851",
   "metadata": {
    "execution": {
     "iopub.execute_input": "2022-11-19T20:01:56.348992Z",
     "iopub.status.busy": "2022-11-19T20:01:56.348610Z",
     "iopub.status.idle": "2022-11-19T20:01:56.354593Z",
     "shell.execute_reply": "2022-11-19T20:01:56.353384Z"
    },
    "papermill": {
     "duration": 0.01325,
     "end_time": "2022-11-19T20:01:56.356874",
     "exception": false,
     "start_time": "2022-11-19T20:01:56.343624",
     "status": "completed"
    },
    "tags": []
   },
   "outputs": [],
   "source": [
    "def tuneParams():\n",
    "    trialModels = Trials()\n",
    "    \n",
    "    bestParam = fmin(fn=objectiveFn,space=paramSpace,algo=tpe.suggest,max_evals=10,trials=trialModels)\n",
    "    \n",
    "    print(bestParam)\n",
    "    return [bestParam,trialModels]"
   ]
  },
  {
   "cell_type": "code",
   "execution_count": 8,
   "id": "ca1c82d3",
   "metadata": {
    "execution": {
     "iopub.execute_input": "2022-11-19T20:01:56.365834Z",
     "iopub.status.busy": "2022-11-19T20:01:56.365412Z",
     "iopub.status.idle": "2022-11-19T20:01:56.370067Z",
     "shell.execute_reply": "2022-11-19T20:01:56.368898Z"
    },
    "papermill": {
     "duration": 0.01181,
     "end_time": "2022-11-19T20:01:56.372328",
     "exception": false,
     "start_time": "2022-11-19T20:01:56.360518",
     "status": "completed"
    },
    "tags": []
   },
   "outputs": [],
   "source": [
    "# param_models = tuneParams()"
   ]
  },
  {
   "cell_type": "code",
   "execution_count": 9,
   "id": "e27cdd9a",
   "metadata": {
    "execution": {
     "iopub.execute_input": "2022-11-19T20:01:56.381349Z",
     "iopub.status.busy": "2022-11-19T20:01:56.380974Z",
     "iopub.status.idle": "2022-11-19T22:20:02.892209Z",
     "shell.execute_reply": "2022-11-19T22:20:02.890010Z"
    },
    "papermill": {
     "duration": 8286.519014,
     "end_time": "2022-11-19T22:20:02.894906",
     "exception": false,
     "start_time": "2022-11-19T20:01:56.375892",
     "status": "completed"
    },
    "tags": []
   },
   "outputs": [
    {
     "name": "stdout",
     "output_type": "stream",
     "text": [
      "Accuracy :  0.9807500829737803\n",
      "validation-AUC :  0.9616624896384297 \n",
      "===============================\n",
      "Accuracy :  0.9496143633834871\n",
      "validation-AUC :  0.9360516844556065 \n",
      "===============================\n",
      "Accuracy :  0.9457579972183588\n",
      "validation-AUC :  0.9433116750424605 \n",
      "===============================\n",
      "Accuracy :  0.9671260589202175\n",
      "validation-AUC :  0.9553846694198651 \n",
      "===============================\n",
      "Accuracy :  0.9697022379567581\n",
      "validation-AUC :  0.9549636420157972 \n",
      "===============================\n",
      "Accuracy :  0.9549721835883171\n",
      "validation-AUC :  0.9461414255576382 \n",
      "===============================\n",
      "Accuracy :  0.7420818055379947\n",
      "validation-AUC :  0.9556520155891286 \n",
      "===============================\n",
      "Result file saved\n"
     ]
    }
   ],
   "source": [
    "bestParams = {'base_score': 0.6749999999999999, 'colsample_bytree': 0.672, 'gamma': 0.44999999999999996, 'learning_rate': 0.105,\n",
    "              'max_depth': 9, 'min_child_weight': 8.0, 'n_estimators': 671, 'reg_alpha': 4.0, 'reg_lambda': 1.1400000000000001,\n",
    "              'scale_pos_weight': 45.0, 'subsample': 0.8099999999999999,'n_jobs':-1,'verbosity':1}\n",
    "\n",
    "model = xgbClassifier(dfTrain,bestParams)\n",
    "evaluateModel(dfTest,model)"
   ]
  },
  {
   "cell_type": "code",
   "execution_count": 10,
   "id": "f1a11e91",
   "metadata": {
    "execution": {
     "iopub.execute_input": "2022-11-19T22:20:02.905337Z",
     "iopub.status.busy": "2022-11-19T22:20:02.904963Z",
     "iopub.status.idle": "2022-11-19T22:20:02.909676Z",
     "shell.execute_reply": "2022-11-19T22:20:02.908594Z"
    },
    "papermill": {
     "duration": 0.012479,
     "end_time": "2022-11-19T22:20:02.911754",
     "exception": false,
     "start_time": "2022-11-19T22:20:02.899275",
     "status": "completed"
    },
    "tags": []
   },
   "outputs": [],
   "source": [
    "# n_estimator=550,verbosity=1,n_jobs=-1,reg_alpha=8.0,colsample_bytree=0.8,\n",
    "# learning_rate=0.17500000000000002,gamma=0.6000000000000001,\n",
    "# reg_lambda=1.20000000000000001,max_depth=10,min_child_weight=1.0,scale_pos_weight=60.0,\n",
    "# subsample=0.700000000000001,objective='binary:logistic'\n",
    "\n",
    "\n",
    "# model = xgbClassifier(dfTrain)\n",
    "# evaluateModel(dfTest,model)"
   ]
  },
  {
   "cell_type": "code",
   "execution_count": null,
   "id": "308e17e1",
   "metadata": {
    "papermill": {
     "duration": 0.003941,
     "end_time": "2022-11-19T22:20:02.919907",
     "exception": false,
     "start_time": "2022-11-19T22:20:02.915966",
     "status": "completed"
    },
    "tags": []
   },
   "outputs": [],
   "source": []
  }
 ],
 "metadata": {
  "kernelspec": {
   "display_name": "Python 3",
   "language": "python",
   "name": "python3"
  },
  "language_info": {
   "codemirror_mode": {
    "name": "ipython",
    "version": 3
   },
   "file_extension": ".py",
   "mimetype": "text/x-python",
   "name": "python",
   "nbconvert_exporter": "python",
   "pygments_lexer": "ipython3",
   "version": "3.7.12"
  },
  "papermill": {
   "default_parameters": {},
   "duration": 8315.551697,
   "end_time": "2022-11-19T22:20:03.759295",
   "environment_variables": {},
   "exception": null,
   "input_path": "__notebook__.ipynb",
   "output_path": "__notebook__.ipynb",
   "parameters": {},
   "start_time": "2022-11-19T20:01:28.207598",
   "version": "2.3.4"
  }
 },
 "nbformat": 4,
 "nbformat_minor": 5
}
