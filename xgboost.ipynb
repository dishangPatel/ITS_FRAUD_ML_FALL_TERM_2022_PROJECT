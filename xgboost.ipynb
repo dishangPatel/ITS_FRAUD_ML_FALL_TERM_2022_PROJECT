{
 "cells": [
  {
   "cell_type": "code",
   "execution_count": 1,
   "id": "60b4a907",
   "metadata": {
    "_cell_guid": "b1076dfc-b9ad-4769-8c92-a6c4dae69d19",
    "_uuid": "8f2839f25d086af736a60e9eeb907d3b93b6e0e5",
    "execution": {
     "iopub.execute_input": "2022-12-03T17:56:20.474899Z",
     "iopub.status.busy": "2022-12-03T17:56:20.474499Z",
     "iopub.status.idle": "2022-12-03T17:56:22.185205Z",
     "shell.execute_reply": "2022-12-03T17:56:22.184060Z"
    },
    "papermill": {
     "duration": 1.719622,
     "end_time": "2022-12-03T17:56:22.187869",
     "exception": false,
     "start_time": "2022-12-03T17:56:20.468247",
     "status": "completed"
    },
    "tags": []
   },
   "outputs": [],
   "source": [
    "import pandas as pd\n",
    "import numpy as  np\n",
    "from sklearn.model_selection import train_test_split,StratifiedKFold\n",
    "from xgboost import XGBClassifier\n",
    "from sklearn import metrics\n",
    "from hyperopt import fmin,tpe,hp,STATUS_OK,Trials,space_eval"
   ]
  },
  {
   "cell_type": "code",
   "execution_count": 2,
   "id": "07d6180c",
   "metadata": {
    "execution": {
     "iopub.execute_input": "2022-12-03T17:56:22.199156Z",
     "iopub.status.busy": "2022-12-03T17:56:22.198551Z",
     "iopub.status.idle": "2022-12-03T17:56:22.204693Z",
     "shell.execute_reply": "2022-12-03T17:56:22.203977Z"
    },
    "papermill": {
     "duration": 0.014197,
     "end_time": "2022-12-03T17:56:22.207133",
     "exception": false,
     "start_time": "2022-12-03T17:56:22.192936",
     "status": "completed"
    },
    "tags": []
   },
   "outputs": [],
   "source": [
    "def changeDType(df,flag=False):\n",
    "    \n",
    "    if(flag):\n",
    "        numericDtype = ['int32','int64','float64','float32']\n",
    "    \n",
    "    for i in df.columns:\n",
    "        if (df[i].dtype == 'int64' or df[i].dtype == 'int32'):\n",
    "            df[i] = pd.to_numeric(df[i],downcast='integer')\n",
    "        \n",
    "        if (df[i].dtype == 'float64' or df[i].dtype == 'float32'):\n",
    "            df[i] = pd.to_numeric(df[i],downcast='float')\n"
   ]
  },
  {
   "cell_type": "code",
   "execution_count": 3,
   "id": "db57cf97",
   "metadata": {
    "execution": {
     "iopub.execute_input": "2022-12-03T17:56:22.216818Z",
     "iopub.status.busy": "2022-12-03T17:56:22.216275Z",
     "iopub.status.idle": "2022-12-03T17:56:33.588735Z",
     "shell.execute_reply": "2022-12-03T17:56:33.587179Z"
    },
    "papermill": {
     "duration": 11.379875,
     "end_time": "2022-12-03T17:56:33.591128",
     "exception": false,
     "start_time": "2022-12-03T17:56:22.211253",
     "status": "completed"
    },
    "tags": []
   },
   "outputs": [],
   "source": [
    "dfTest = pd.read_csv('../input/preprocessedtestv3/preprocessedTestV3.csv')\n",
    "dfTrain = pd.read_csv('../input/preprocessedtrainv3/preprocessedTrainV3.csv')"
   ]
  },
  {
   "cell_type": "code",
   "execution_count": 4,
   "id": "80c10419",
   "metadata": {
    "execution": {
     "iopub.execute_input": "2022-12-03T17:56:33.600485Z",
     "iopub.status.busy": "2022-12-03T17:56:33.600035Z",
     "iopub.status.idle": "2022-12-03T17:56:41.139976Z",
     "shell.execute_reply": "2022-12-03T17:56:41.138886Z"
    },
    "papermill": {
     "duration": 7.54729,
     "end_time": "2022-12-03T17:56:41.142353",
     "exception": false,
     "start_time": "2022-12-03T17:56:33.595063",
     "status": "completed"
    },
    "tags": []
   },
   "outputs": [],
   "source": [
    "changeDType(dfTest)\n",
    "changeDType(dfTrain)"
   ]
  },
  {
   "cell_type": "code",
   "execution_count": 5,
   "id": "ab54cb64",
   "metadata": {
    "execution": {
     "iopub.execute_input": "2022-12-03T17:56:41.151199Z",
     "iopub.status.busy": "2022-12-03T17:56:41.150877Z",
     "iopub.status.idle": "2022-12-03T17:56:41.156928Z",
     "shell.execute_reply": "2022-12-03T17:56:41.155611Z"
    },
    "papermill": {
     "duration": 0.012637,
     "end_time": "2022-12-03T17:56:41.158884",
     "exception": false,
     "start_time": "2022-12-03T17:56:41.146247",
     "status": "completed"
    },
    "tags": []
   },
   "outputs": [],
   "source": [
    "def evaluateModel(df,model):\n",
    "    \n",
    "    df = df - df.min()/df.max()-df.min()\n",
    "    \n",
    "    y_pred = model.predict(df)\n",
    "    \n",
    "    result = pd.DataFrame(y_pred)\n",
    "    \n",
    "    result.columns = ['isFraud']\n",
    "    result.to_csv(\"./result_xgb_final.csv\")\n",
    "    \n",
    "    print(\"Result file saved\")\n",
    "    "
   ]
  },
  {
   "cell_type": "code",
   "execution_count": 6,
   "id": "bc52d963",
   "metadata": {
    "execution": {
     "iopub.execute_input": "2022-12-03T17:56:41.167825Z",
     "iopub.status.busy": "2022-12-03T17:56:41.167486Z",
     "iopub.status.idle": "2022-12-03T17:56:41.177691Z",
     "shell.execute_reply": "2022-12-03T17:56:41.176273Z"
    },
    "papermill": {
     "duration": 0.017302,
     "end_time": "2022-12-03T17:56:41.180077",
     "exception": false,
     "start_time": "2022-12-03T17:56:41.162775",
     "status": "completed"
    },
    "tags": []
   },
   "outputs": [],
   "source": [
    "def xgbClassifier(df,params=None):\n",
    "    \n",
    "    tmpPara = {'n_estimator':550,'eval_metric':'auc','verbosity':1,'n_jobs':-1,'reg_alpha':8.0,'colsample_bytree':0.8,'learning_rate':0.17500000000000002,'gamma':0.6000000000000001,'reg_lambda':1.20000000000000001,'max_depth':10,'min_child_weight':1.0,'scale_pos_weight':60.0,'subsample':0.700000000000001,'objective':'binary:logistic'}\n",
    "    \n",
    "    if(params!=None):\n",
    "        tmpPara = params\n",
    "    \n",
    "    X_train = df.drop(['isFraud'],axis=1)\n",
    "    Y_train = df['isFraud']\n",
    "    \n",
    "    X_train = X_train - X_train.min()/X_train.max() - X_train.min()\n",
    "    \n",
    "    skf = StratifiedKFold(n_splits=2)\n",
    "#     if()\n",
    "    xgbc = XGBClassifier(**tmpPara)\n",
    "    \n",
    "    for trainIndx,testIndx in skf.split(X_train,Y_train):\n",
    "        \n",
    "        Xtrain = X_train.iloc[trainIndx]\n",
    "        Ytrain = Y_train.iloc[trainIndx]\n",
    "        \n",
    "        Xtest = X_train.iloc[testIndx]\n",
    "        Ytest = Y_train.iloc[testIndx]\n",
    "    \n",
    "        xgbc.fit(Xtrain,Ytrain)\n",
    "        \n",
    "        print(\"Accuracy : \",xgbc.score(Xtest,Ytest))\n",
    "        \n",
    "        prob = xgbc.predict_proba(Xtest)[:,1]\n",
    "        \n",
    "        auc = metrics.roc_auc_score(Ytest,prob)\n",
    "        print(\"validation-AUC : \",auc,\"\\n===============================\")\n",
    "        \n",
    "        \n",
    "    return xgbc"
   ]
  },
  {
   "cell_type": "code",
   "execution_count": 7,
   "id": "5e870e43",
   "metadata": {
    "execution": {
     "iopub.execute_input": "2022-12-03T17:56:41.189759Z",
     "iopub.status.busy": "2022-12-03T17:56:41.188906Z",
     "iopub.status.idle": "2022-12-03T17:56:42.390769Z",
     "shell.execute_reply": "2022-12-03T17:56:42.389292Z"
    },
    "papermill": {
     "duration": 1.209387,
     "end_time": "2022-12-03T17:56:42.393407",
     "exception": false,
     "start_time": "2022-12-03T17:56:41.184020",
     "status": "completed"
    },
    "tags": []
   },
   "outputs": [],
   "source": [
    "train,test = train_test_split(dfTrain,test_size=0.25,stratify=dfTrain['isFraud'])\n",
    "\n",
    "XTrain = train.drop(['isFraud'],axis=1)\n",
    "YTrain = train['isFraud']\n",
    "\n",
    "XTest = test.drop(['isFraud'],axis=1)\n",
    "YTest = test['isFraud']\n",
    "\n",
    "\n",
    "XTrain = XTrain - XTrain.min()/XTrain.max()-XTrain.min()\n",
    "XTest = XTest - XTest.min()/XTest.max()-XTest.min()\n",
    "\n",
    "\n",
    "def objectiveFn(paramSpace):\n",
    "    \n",
    "    xgbc = XGBClassifier(**paramSpace)    \n",
    "    xgbc.fit(XTrain,YTrain)\n",
    "    \n",
    "    prob = xgbc.predict_proba(XTest)[:,1]\n",
    "    auc = metrics.roc_auc_score(YTest,prob)\n",
    "    print(\"AUC : \",auc)\n",
    "    return {'loss':-auc,'status':STATUS_OK} # -ve auc minimization ==> +auc maximization\n"
   ]
  },
  {
   "cell_type": "code",
   "execution_count": 8,
   "id": "1a0fd7ba",
   "metadata": {
    "execution": {
     "iopub.execute_input": "2022-12-03T17:56:42.402734Z",
     "iopub.status.busy": "2022-12-03T17:56:42.402390Z",
     "iopub.status.idle": "2022-12-03T17:56:42.410290Z",
     "shell.execute_reply": "2022-12-03T17:56:42.409360Z"
    },
    "papermill": {
     "duration": 0.015706,
     "end_time": "2022-12-03T17:56:42.412980",
     "exception": false,
     "start_time": "2022-12-03T17:56:42.397274",
     "status": "completed"
    },
    "tags": []
   },
   "outputs": [],
   "source": [
    "paramSpace = {\n",
    "    'n_estimators' : hp.randint('n_estimators',300,800),\n",
    "    'max_depth' : hp.randint('max_depth',9,18),\n",
    "#     'grow_policy' : hp.randint('grow_policy',0,1),\n",
    "    'learning_rate' : hp.quniform('learning_rate',0.01,0.2,0.015),\n",
    "    'objective' : 'binary:logistic',\n",
    "    'booster':'gbtree',\n",
    "    'tree_method' : 'gpu_hist',\n",
    "    'n_jobs': -1,\n",
    "    'gamma' : hp.quniform('gamma',0.4,1,0.06),\n",
    "    'min_child_weight' : hp.quniform('min_child_weight',1,12,1),\n",
    "    'subsample':hp.quniform('subsample',0.55,1,0.055),\n",
    "    'colsample_bytree':hp.quniform('colsample_bytree', 0.65, 1, 0.055),\n",
    "    'reg_alpha' : hp.quniform('reg_alpha', 0, 10, 1),\n",
    "    'reg_lambda': hp.quniform('reg_lambda', 1, 2, 0.12),\n",
    "    'scale_pos_weight': hp.quniform('scale_pos_weight', 45, 200, 7), # helps in convergence for high imbalance\n",
    "    'base_score' : hp.quniform('base_score',0.67,0.72,0.055),\n",
    "    'eval_metric'  : 'auc',\n",
    "}"
   ]
  },
  {
   "cell_type": "code",
   "execution_count": 9,
   "id": "cc5b8c29",
   "metadata": {
    "execution": {
     "iopub.execute_input": "2022-12-03T17:56:42.422627Z",
     "iopub.status.busy": "2022-12-03T17:56:42.422265Z",
     "iopub.status.idle": "2022-12-03T17:56:42.427991Z",
     "shell.execute_reply": "2022-12-03T17:56:42.426830Z"
    },
    "papermill": {
     "duration": 0.013542,
     "end_time": "2022-12-03T17:56:42.430405",
     "exception": false,
     "start_time": "2022-12-03T17:56:42.416863",
     "status": "completed"
    },
    "tags": []
   },
   "outputs": [],
   "source": [
    "def tuneParams():\n",
    "    trialModels = Trials()\n",
    "    \n",
    "    bestParam = fmin(fn=objectiveFn,space=paramSpace,algo=tpe.suggest,max_evals=99,trials=trialModels)\n",
    "    \n",
    "    print(bestParam)\n",
    "    return [bestParam,trialModels]"
   ]
  },
  {
   "cell_type": "code",
   "execution_count": 10,
   "id": "49105ce0",
   "metadata": {
    "execution": {
     "iopub.execute_input": "2022-12-03T17:56:42.439546Z",
     "iopub.status.busy": "2022-12-03T17:56:42.439226Z",
     "iopub.status.idle": "2022-12-03T17:56:42.443239Z",
     "shell.execute_reply": "2022-12-03T17:56:42.442364Z"
    },
    "papermill": {
     "duration": 0.010615,
     "end_time": "2022-12-03T17:56:42.444935",
     "exception": false,
     "start_time": "2022-12-03T17:56:42.434320",
     "status": "completed"
    },
    "tags": []
   },
   "outputs": [],
   "source": [
    "# param_models = tuneParams()"
   ]
  },
  {
   "cell_type": "code",
   "execution_count": 11,
   "id": "b729f872",
   "metadata": {
    "execution": {
     "iopub.execute_input": "2022-12-03T17:56:42.455396Z",
     "iopub.status.busy": "2022-12-03T17:56:42.455034Z",
     "iopub.status.idle": "2022-12-03T17:56:42.459197Z",
     "shell.execute_reply": "2022-12-03T17:56:42.457879Z"
    },
    "papermill": {
     "duration": 0.013035,
     "end_time": "2022-12-03T17:56:42.461897",
     "exception": false,
     "start_time": "2022-12-03T17:56:42.448862",
     "status": "completed"
    },
    "tags": []
   },
   "outputs": [],
   "source": [
    "# print(param_models[0])\n",
    "\n"
   ]
  },
  {
   "cell_type": "code",
   "execution_count": 12,
   "id": "3a616044",
   "metadata": {
    "execution": {
     "iopub.execute_input": "2022-12-03T17:56:42.471264Z",
     "iopub.status.busy": "2022-12-03T17:56:42.470938Z",
     "iopub.status.idle": "2022-12-03T18:39:37.110164Z",
     "shell.execute_reply": "2022-12-03T18:39:37.109374Z"
    },
    "papermill": {
     "duration": 2574.645984,
     "end_time": "2022-12-03T18:39:37.111954",
     "exception": false,
     "start_time": "2022-12-03T17:56:42.465970",
     "status": "completed"
    },
    "tags": []
   },
   "outputs": [
    {
     "name": "stdout",
     "output_type": "stream",
     "text": [
      "Accuracy :  0.9771238140824464\n",
      "validation-AUC :  0.9428550125332225 \n",
      "===============================\n",
      "Accuracy :  0.425175658833517\n",
      "validation-AUC :  0.9131053232629306 \n",
      "===============================\n",
      "Result file saved\n"
     ]
    }
   ],
   "source": [
    "# {'base_score': 0.66, 'colsample_bytree': 0.935, 'gamma': 0.6, 'learning_rate': 0.03, 'max_depth': 15, 'min_child_weight': 10.0,\n",
    "# 'n_estimators': 773, 'reg_alpha': 1.0, 'reg_lambda': 2.04, 'scale_pos_weight': 42.0, 'subsample': 0.935}\n",
    "# AUC 0.8463\n",
    "best_params = {'objective':'binary:logistic','n_jobs':-1,'base_score': 0.66, 'colsample_bytree': 0.935, 'gamma': 0.6, 'learning_rate': 0.03, 'max_depth': 15, 'min_child_weight': 10.0, 'n_estimators': 773, 'reg_alpha': 1.0, 'reg_lambda': 2.04, 'scale_pos_weight': 42.0, 'subsample': 0.935}\n",
    "model = xgbClassifier(dfTrain,best_params)\n",
    "evaluateModel(dfTest,model)"
   ]
  },
  {
   "cell_type": "code",
   "execution_count": 13,
   "id": "08a0cc6b",
   "metadata": {
    "execution": {
     "iopub.execute_input": "2022-12-03T18:39:37.123026Z",
     "iopub.status.busy": "2022-12-03T18:39:37.121492Z",
     "iopub.status.idle": "2022-12-03T18:39:37.127538Z",
     "shell.execute_reply": "2022-12-03T18:39:37.126346Z"
    },
    "papermill": {
     "duration": 0.013931,
     "end_time": "2022-12-03T18:39:37.130119",
     "exception": false,
     "start_time": "2022-12-03T18:39:37.116188",
     "status": "completed"
    },
    "tags": []
   },
   "outputs": [],
   "source": [
    "# bestParams = {'base_score': 0.6749999999999999, 'colsample_bytree': 0.672, 'gamma': 0.44999999999999996, 'learning_rate': 0.105,\n",
    "#               'max_depth': 9, 'min_child_weight': 8.0, 'n_estimators': 671, 'reg_alpha': 4.0, 'reg_lambda': 1.1400000000000001,\n",
    "#               'scale_pos_weight': 45.0, 'subsample': 0.8099999999999999,'n_jobs':-1,'verbosity':1}\n",
    "\n",
    "# model = xgbClassifier(dfTrain,bestParams)\n",
    "# evaluateModel(dfTest,model)"
   ]
  },
  {
   "cell_type": "code",
   "execution_count": 14,
   "id": "3f3f0b38",
   "metadata": {
    "execution": {
     "iopub.execute_input": "2022-12-03T18:39:37.140803Z",
     "iopub.status.busy": "2022-12-03T18:39:37.140438Z",
     "iopub.status.idle": "2022-12-03T18:39:37.144935Z",
     "shell.execute_reply": "2022-12-03T18:39:37.143721Z"
    },
    "papermill": {
     "duration": 0.011955,
     "end_time": "2022-12-03T18:39:37.146707",
     "exception": false,
     "start_time": "2022-12-03T18:39:37.134752",
     "status": "completed"
    },
    "tags": []
   },
   "outputs": [],
   "source": [
    "# n_estimator=550,verbosity=1,n_jobs=-1,reg_alpha=8.0,colsample_bytree=0.8,\n",
    "# learning_rate=0.17500000000000002,gamma=0.6000000000000001,\n",
    "# reg_lambda=1.20000000000000001,max_depth=10,min_child_weight=1.0,scale_pos_weight=60.0,\n",
    "# subsample=0.700000000000001,objective='binary:logistic'\n",
    "\n",
    "\n",
    "# model = xgbClassifier(dfTrain)\n",
    "# evaluateModel(dfTest,model)"
   ]
  },
  {
   "cell_type": "code",
   "execution_count": null,
   "id": "8d8d69c1",
   "metadata": {
    "execution": {
     "iopub.execute_input": "2022-12-03T16:34:42.870113Z",
     "iopub.status.busy": "2022-12-03T16:34:42.869668Z",
     "iopub.status.idle": "2022-12-03T16:34:42.876116Z",
     "shell.execute_reply": "2022-12-03T16:34:42.875333Z",
     "shell.execute_reply.started": "2022-12-03T16:34:42.870070Z"
    },
    "papermill": {
     "duration": 0.003591,
     "end_time": "2022-12-03T18:39:37.154456",
     "exception": false,
     "start_time": "2022-12-03T18:39:37.150865",
     "status": "completed"
    },
    "tags": []
   },
   "outputs": [],
   "source": []
  },
  {
   "cell_type": "code",
   "execution_count": 15,
   "id": "1c585165",
   "metadata": {
    "execution": {
     "iopub.execute_input": "2022-12-03T18:39:37.164346Z",
     "iopub.status.busy": "2022-12-03T18:39:37.164035Z",
     "iopub.status.idle": "2022-12-03T19:22:27.666857Z",
     "shell.execute_reply": "2022-12-03T19:22:27.664933Z"
    },
    "papermill": {
     "duration": 2570.510977,
     "end_time": "2022-12-03T19:22:27.669180",
     "exception": false,
     "start_time": "2022-12-03T18:39:37.158203",
     "status": "completed"
    },
    "tags": []
   },
   "outputs": [
    {
     "name": "stdout",
     "output_type": "stream",
     "text": [
      "Accuracy :  0.9771238140824464\n",
      "validation-AUC :  0.9428550125332225 \n",
      "===============================\n",
      "Accuracy :  0.425175658833517\n",
      "validation-AUC :  0.9131053232629306 \n",
      "===============================\n",
      "Result file saved\n"
     ]
    }
   ],
   "source": [
    "best_params = {'objective':'binary:logistic','n_jobs':-1,'base_score': 0.66, 'colsample_bytree': 0.935, 'gamma': 0.6, 'learning_rate': 0.03, 'max_depth': 15, 'min_child_weight': 10.0, 'n_estimators': 773, 'reg_alpha': 1.0, 'reg_lambda': 2.04, 'scale_pos_weight': 42.0, 'subsample': 0.935}\n",
    "model = xgbClassifier(dfTrain,best_params)\n",
    "evaluateModel(dfTest,model)"
   ]
  }
 ],
 "metadata": {
  "kernelspec": {
   "display_name": "Python 3",
   "language": "python",
   "name": "python3"
  },
  "language_info": {
   "codemirror_mode": {
    "name": "ipython",
    "version": 3
   },
   "file_extension": ".py",
   "mimetype": "text/x-python",
   "name": "python",
   "nbconvert_exporter": "python",
   "pygments_lexer": "ipython3",
   "version": "3.7.12"
  },
  "papermill": {
   "default_parameters": {},
   "duration": 5175.194648,
   "end_time": "2022-12-03T19:22:28.402514",
   "environment_variables": {},
   "exception": null,
   "input_path": "__notebook__.ipynb",
   "output_path": "__notebook__.ipynb",
   "parameters": {},
   "start_time": "2022-12-03T17:56:13.207866",
   "version": "2.3.4"
  }
 },
 "nbformat": 4,
 "nbformat_minor": 5
}
