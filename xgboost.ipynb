{
 "cells": [
  {
   "cell_type": "code",
   "execution_count": 1,
   "id": "0dc0229b",
   "metadata": {
    "_cell_guid": "b1076dfc-b9ad-4769-8c92-a6c4dae69d19",
    "_uuid": "8f2839f25d086af736a60e9eeb907d3b93b6e0e5",
    "execution": {
     "iopub.execute_input": "2022-11-21T12:03:59.199218Z",
     "iopub.status.busy": "2022-11-21T12:03:59.198740Z",
     "iopub.status.idle": "2022-11-21T12:04:01.103108Z",
     "shell.execute_reply": "2022-11-21T12:04:01.101867Z"
    },
    "papermill": {
     "duration": 1.914023,
     "end_time": "2022-11-21T12:04:01.106108",
     "exception": false,
     "start_time": "2022-11-21T12:03:59.192085",
     "status": "completed"
    },
    "tags": []
   },
   "outputs": [],
   "source": [
    "import pandas as pd\n",
    "import numpy as  np\n",
    "from sklearn.model_selection import train_test_split,StratifiedKFold\n",
    "from xgboost import XGBClassifier\n",
    "from sklearn import metrics\n",
    "from hyperopt import fmin,tpe,hp,STATUS_OK,Trials,space_eval"
   ]
  },
  {
   "cell_type": "code",
   "execution_count": 2,
   "id": "a11863c6",
   "metadata": {
    "execution": {
     "iopub.execute_input": "2022-11-21T12:04:01.116936Z",
     "iopub.status.busy": "2022-11-21T12:04:01.116423Z",
     "iopub.status.idle": "2022-11-21T12:04:01.124948Z",
     "shell.execute_reply": "2022-11-21T12:04:01.123486Z"
    },
    "papermill": {
     "duration": 0.017163,
     "end_time": "2022-11-21T12:04:01.127736",
     "exception": false,
     "start_time": "2022-11-21T12:04:01.110573",
     "status": "completed"
    },
    "tags": []
   },
   "outputs": [],
   "source": [
    "def changeDType(df,flag=False):\n",
    "    \n",
    "    if(flag):\n",
    "        numericDtype = ['int32','int64','float64','float32']\n",
    "    \n",
    "    for i in df.columns:\n",
    "        if (df[i].dtype == 'int64' or df[i].dtype == 'int32'):\n",
    "            df[i] = pd.to_numeric(df[i],downcast='integer')\n",
    "        \n",
    "        if (df[i].dtype == 'float64' or df[i].dtype == 'float32'):\n",
    "            df[i] = pd.to_numeric(df[i],downcast='float')\n"
   ]
  },
  {
   "cell_type": "code",
   "execution_count": 3,
   "id": "b602cddc",
   "metadata": {
    "execution": {
     "iopub.execute_input": "2022-11-21T12:04:01.139054Z",
     "iopub.status.busy": "2022-11-21T12:04:01.138547Z",
     "iopub.status.idle": "2022-11-21T12:04:15.419798Z",
     "shell.execute_reply": "2022-11-21T12:04:15.418298Z"
    },
    "papermill": {
     "duration": 14.290015,
     "end_time": "2022-11-21T12:04:15.422789",
     "exception": false,
     "start_time": "2022-11-21T12:04:01.132774",
     "status": "completed"
    },
    "tags": []
   },
   "outputs": [],
   "source": [
    "dfTest = pd.read_csv('../input/preprocessedtestv3/preprocessedTestV3.csv')\n",
    "dfTrain = pd.read_csv('../input/preprocessedtrainv3/preprocessedTrainV3.csv')"
   ]
  },
  {
   "cell_type": "code",
   "execution_count": 4,
   "id": "f31da908",
   "metadata": {
    "execution": {
     "iopub.execute_input": "2022-11-21T12:04:15.433351Z",
     "iopub.status.busy": "2022-11-21T12:04:15.432811Z",
     "iopub.status.idle": "2022-11-21T12:04:23.362666Z",
     "shell.execute_reply": "2022-11-21T12:04:23.361498Z"
    },
    "papermill": {
     "duration": 7.937985,
     "end_time": "2022-11-21T12:04:23.365186",
     "exception": false,
     "start_time": "2022-11-21T12:04:15.427201",
     "status": "completed"
    },
    "tags": []
   },
   "outputs": [],
   "source": [
    "changeDType(dfTest)\n",
    "changeDType(dfTrain)"
   ]
  },
  {
   "cell_type": "code",
   "execution_count": 5,
   "id": "048d3b38",
   "metadata": {
    "execution": {
     "iopub.execute_input": "2022-11-21T12:04:23.375728Z",
     "iopub.status.busy": "2022-11-21T12:04:23.374689Z",
     "iopub.status.idle": "2022-11-21T12:04:23.380972Z",
     "shell.execute_reply": "2022-11-21T12:04:23.379592Z"
    },
    "papermill": {
     "duration": 0.014197,
     "end_time": "2022-11-21T12:04:23.383700",
     "exception": false,
     "start_time": "2022-11-21T12:04:23.369503",
     "status": "completed"
    },
    "tags": []
   },
   "outputs": [],
   "source": [
    "def evaluateModel(df,model):\n",
    "    \n",
    "    df = df - df.min()/df.max()-df.min()\n",
    "    \n",
    "    y_pred = model.predict(df)\n",
    "    \n",
    "    result = pd.DataFrame(y_pred)\n",
    "    \n",
    "    result.columns = ['isFraud']\n",
    "    result.to_csv(\"./result_xgb_final.csv\")\n",
    "    \n",
    "    print(\"Result file saved\")\n",
    "    "
   ]
  },
  {
   "cell_type": "code",
   "execution_count": 6,
   "id": "05a51d55",
   "metadata": {
    "execution": {
     "iopub.execute_input": "2022-11-21T12:04:23.394602Z",
     "iopub.status.busy": "2022-11-21T12:04:23.393354Z",
     "iopub.status.idle": "2022-11-21T12:04:23.404598Z",
     "shell.execute_reply": "2022-11-21T12:04:23.403042Z"
    },
    "papermill": {
     "duration": 0.019314,
     "end_time": "2022-11-21T12:04:23.407246",
     "exception": false,
     "start_time": "2022-11-21T12:04:23.387932",
     "status": "completed"
    },
    "tags": []
   },
   "outputs": [],
   "source": [
    "def xgbClassifier(df,params=None):\n",
    "    \n",
    "    tmpPara = {'n_estimator':550,'eval_metric':'auc','verbosity':1,'n_jobs':-1,'reg_alpha':8.0,'colsample_bytree':0.8,'learning_rate':0.17500000000000002,'gamma':0.6000000000000001,'reg_lambda':1.20000000000000001,'max_depth':10,'min_child_weight':1.0,'scale_pos_weight':60.0,'subsample':0.700000000000001,'objective':'binary:logistic'}\n",
    "    \n",
    "    if(params!=None):\n",
    "        tmpPara = params\n",
    "    \n",
    "    X_train = df.drop(['isFraud'],axis=1)\n",
    "    Y_train = df['isFraud']\n",
    "    \n",
    "    X_train = X_train - X_train.min()/X_train.max() - X_train.min()\n",
    "    \n",
    "    skf = StratifiedKFold(n_splits=9)\n",
    "#     if()\n",
    "    xgbc = XGBClassifier(**tmpPara)\n",
    "    \n",
    "    for trainIndx,testIndx in skf.split(X_train,Y_train):\n",
    "        \n",
    "        Xtrain = X_train.iloc[trainIndx]\n",
    "        Ytrain = Y_train.iloc[trainIndx]\n",
    "        \n",
    "        Xtest = X_train.iloc[testIndx]\n",
    "        Ytest = Y_train.iloc[testIndx]\n",
    "    \n",
    "        xgbc.fit(Xtrain,Ytrain)\n",
    "        \n",
    "        print(\"Accuracy : \",xgbc.score(Xtest,Ytest))\n",
    "        \n",
    "        prob = xgbc.predict_proba(Xtest)[:,1]\n",
    "        \n",
    "        auc = metrics.roc_auc_score(Ytest,prob)\n",
    "        print(\"validation-AUC : \",auc,\"\\n===============================\")\n",
    "        \n",
    "        \n",
    "    return xgbc"
   ]
  },
  {
   "cell_type": "code",
   "execution_count": 7,
   "id": "f7283bb3",
   "metadata": {
    "execution": {
     "iopub.execute_input": "2022-11-21T12:04:23.417720Z",
     "iopub.status.busy": "2022-11-21T12:04:23.416697Z",
     "iopub.status.idle": "2022-11-21T12:04:24.717478Z",
     "shell.execute_reply": "2022-11-21T12:04:24.716500Z"
    },
    "papermill": {
     "duration": 1.30891,
     "end_time": "2022-11-21T12:04:24.720176",
     "exception": false,
     "start_time": "2022-11-21T12:04:23.411266",
     "status": "completed"
    },
    "tags": []
   },
   "outputs": [],
   "source": [
    "train,test = train_test_split(dfTrain,test_size=0.25,stratify=dfTrain['isFraud'])\n",
    "\n",
    "XTrain = train.drop(['isFraud'],axis=1)\n",
    "YTrain = train['isFraud']\n",
    "\n",
    "XTest = test.drop(['isFraud'],axis=1)\n",
    "YTest = test['isFraud']\n",
    "\n",
    "\n",
    "XTrain = XTrain - XTrain.min()/XTrain.max()-XTrain.min()\n",
    "XTest = XTest - XTest.min()/XTest.max()-XTest.min()\n",
    "\n",
    "\n",
    "def objectiveFn(paramSpace):\n",
    "    \n",
    "    xgbc = XGBClassifier(**paramSpace)    \n",
    "    xgbc.fit(XTrain,YTrain)\n",
    "    \n",
    "    prob = xgbc.predict_proba(XTest)[:,1]\n",
    "    auc = metrics.roc_auc_score(YTest,prob)\n",
    "    print(\"AUC : \",auc)\n",
    "    return {'loss':-auc,'status':STATUS_OK} # -ve auc minimization ==> +auc maximization\n"
   ]
  },
  {
   "cell_type": "code",
   "execution_count": 8,
   "id": "3024e6bd",
   "metadata": {
    "execution": {
     "iopub.execute_input": "2022-11-21T12:04:24.730554Z",
     "iopub.status.busy": "2022-11-21T12:04:24.730108Z",
     "iopub.status.idle": "2022-11-21T12:04:24.739923Z",
     "shell.execute_reply": "2022-11-21T12:04:24.738400Z"
    },
    "papermill": {
     "duration": 0.017673,
     "end_time": "2022-11-21T12:04:24.742151",
     "exception": false,
     "start_time": "2022-11-21T12:04:24.724478",
     "status": "completed"
    },
    "tags": []
   },
   "outputs": [],
   "source": [
    "paramSpace = {\n",
    "    'n_estimators' : hp.randint('n_estimators',300,800),\n",
    "    'max_depth' : hp.randint('max_depth',9,18),\n",
    "#     'grow_policy' : hp.randint('grow_policy',0,1),\n",
    "    'learning_rate' : hp.quniform('learning_rate',0.01,0.2,0.015),\n",
    "    'objective' : 'binary:logistic',\n",
    "    'booster':'gbtree',\n",
    "    'tree_method' : 'gpu_hist',\n",
    "    'n_jobs': -1,\n",
    "    'gamma' : hp.quniform('gamma',0.4,1,0.06),\n",
    "    'min_child_weight' : hp.quniform('min_child_weight',1,12,1),\n",
    "    'subsample':hp.quniform('subsample',0.55,1,0.055),\n",
    "    'colsample_bytree':hp.quniform('colsample_bytree', 0.65, 1, 0.055),\n",
    "    'reg_alpha' : hp.quniform('reg_alpha', 0, 10, 1),\n",
    "    'reg_lambda': hp.quniform('reg_lambda', 1, 2, 0.12),\n",
    "    'scale_pos_weight': hp.quniform('scale_pos_weight', 45, 200, 7), # helps in convergence for high imbalance\n",
    "    'base_score' : hp.quniform('base_score',0.67,0.72,0.055),\n",
    "    'eval_metric'  : 'auc',\n",
    "}"
   ]
  },
  {
   "cell_type": "code",
   "execution_count": 9,
   "id": "30a0b867",
   "metadata": {
    "execution": {
     "iopub.execute_input": "2022-11-21T12:04:24.751552Z",
     "iopub.status.busy": "2022-11-21T12:04:24.751190Z",
     "iopub.status.idle": "2022-11-21T12:04:24.758447Z",
     "shell.execute_reply": "2022-11-21T12:04:24.756465Z"
    },
    "papermill": {
     "duration": 0.015254,
     "end_time": "2022-11-21T12:04:24.761426",
     "exception": false,
     "start_time": "2022-11-21T12:04:24.746172",
     "status": "completed"
    },
    "tags": []
   },
   "outputs": [],
   "source": [
    "def tuneParams():\n",
    "    trialModels = Trials()\n",
    "    \n",
    "    bestParam = fmin(fn=objectiveFn,space=paramSpace,algo=tpe.suggest,max_evals=99,trials=trialModels)\n",
    "    \n",
    "    print(bestParam)\n",
    "    return [bestParam,trialModels]"
   ]
  },
  {
   "cell_type": "code",
   "execution_count": 10,
   "id": "6bb606f6",
   "metadata": {
    "execution": {
     "iopub.execute_input": "2022-11-21T12:04:24.771124Z",
     "iopub.status.busy": "2022-11-21T12:04:24.770693Z",
     "iopub.status.idle": "2022-11-21T12:04:24.776101Z",
     "shell.execute_reply": "2022-11-21T12:04:24.774898Z"
    },
    "papermill": {
     "duration": 0.012694,
     "end_time": "2022-11-21T12:04:24.778180",
     "exception": false,
     "start_time": "2022-11-21T12:04:24.765486",
     "status": "completed"
    },
    "tags": []
   },
   "outputs": [],
   "source": [
    "# param_models = tuneParams()"
   ]
  },
  {
   "cell_type": "code",
   "execution_count": 11,
   "id": "f11a0199",
   "metadata": {
    "execution": {
     "iopub.execute_input": "2022-11-21T12:04:24.788446Z",
     "iopub.status.busy": "2022-11-21T12:04:24.788077Z",
     "iopub.status.idle": "2022-11-21T12:04:24.791917Z",
     "shell.execute_reply": "2022-11-21T12:04:24.791054Z"
    },
    "papermill": {
     "duration": 0.011066,
     "end_time": "2022-11-21T12:04:24.793700",
     "exception": false,
     "start_time": "2022-11-21T12:04:24.782634",
     "status": "completed"
    },
    "tags": []
   },
   "outputs": [],
   "source": [
    "# print(param_models[0])\n",
    "\n"
   ]
  },
  {
   "cell_type": "code",
   "execution_count": 12,
   "id": "8226b66a",
   "metadata": {
    "execution": {
     "iopub.execute_input": "2022-11-21T12:04:24.803433Z",
     "iopub.status.busy": "2022-11-21T12:04:24.803046Z",
     "iopub.status.idle": "2022-11-21T18:19:47.475104Z",
     "shell.execute_reply": "2022-11-21T18:19:47.473813Z"
    },
    "papermill": {
     "duration": 22522.679999,
     "end_time": "2022-11-21T18:19:47.477746",
     "exception": false,
     "start_time": "2022-11-21T12:04:24.797747",
     "status": "completed"
    },
    "tags": []
   },
   "outputs": [
    {
     "name": "stdout",
     "output_type": "stream",
     "text": [
      "Accuracy :  0.982829391205397\n",
      "validation-AUC :  0.9639806864407422 \n",
      "===============================\n",
      "Accuracy :  0.9786840607981793\n",
      "validation-AUC :  0.9570895847258265 \n",
      "===============================\n",
      "Accuracy :  0.9775258067138096\n",
      "validation-AUC :  0.9600860710574438 \n",
      "===============================\n",
      "Accuracy :  0.9651304559863448\n",
      "validation-AUC :  0.9464900734649435 \n",
      "===============================\n",
      "Accuracy :  0.9774445257254328\n",
      "validation-AUC :  0.9604679046068505 \n",
      "===============================\n",
      "Accuracy :  0.9801674388360563\n",
      "validation-AUC :  0.9657926823154163 \n",
      "===============================\n",
      "Accuracy :  0.9763670724025116\n",
      "validation-AUC :  0.9551439863972097 \n",
      "===============================\n",
      "Accuracy :  0.979801263945053\n",
      "validation-AUC :  0.95609537084803 \n",
      "===============================\n",
      "Accuracy :  0.9755136046818801\n",
      "validation-AUC :  0.9599264188058563 \n",
      "===============================\n",
      "Result file saved\n"
     ]
    }
   ],
   "source": [
    "# {'base_score': 0.66, 'colsample_bytree': 0.935, 'gamma': 0.6, 'learning_rate': 0.03, 'max_depth': 15, 'min_child_weight': 10.0,\n",
    "# 'n_estimators': 773, 'reg_alpha': 1.0, 'reg_lambda': 2.04, 'scale_pos_weight': 42.0, 'subsample': 0.935}\n",
    "best_params = {'objective':'binary:logistic','n_jobs':-1,'base_score': 0.66, 'colsample_bytree': 0.935, 'gamma': 0.6, 'learning_rate': 0.03, 'max_depth': 15, 'min_child_weight': 10.0, 'n_estimators': 773, 'reg_alpha': 1.0, 'reg_lambda': 2.04, 'scale_pos_weight': 42.0, 'subsample': 0.935}\n",
    "model = xgbClassifier(dfTrain,best_params)\n",
    "evaluateModel(dfTest,model)"
   ]
  },
  {
   "cell_type": "code",
   "execution_count": 13,
   "id": "1b35b65a",
   "metadata": {
    "execution": {
     "iopub.execute_input": "2022-11-21T18:19:47.493126Z",
     "iopub.status.busy": "2022-11-21T18:19:47.492654Z",
     "iopub.status.idle": "2022-11-21T18:19:47.498368Z",
     "shell.execute_reply": "2022-11-21T18:19:47.496998Z"
    },
    "papermill": {
     "duration": 0.016593,
     "end_time": "2022-11-21T18:19:47.500635",
     "exception": false,
     "start_time": "2022-11-21T18:19:47.484042",
     "status": "completed"
    },
    "tags": []
   },
   "outputs": [],
   "source": [
    "# bestParams = {'base_score': 0.6749999999999999, 'colsample_bytree': 0.672, 'gamma': 0.44999999999999996, 'learning_rate': 0.105,\n",
    "#               'max_depth': 9, 'min_child_weight': 8.0, 'n_estimators': 671, 'reg_alpha': 4.0, 'reg_lambda': 1.1400000000000001,\n",
    "#               'scale_pos_weight': 45.0, 'subsample': 0.8099999999999999,'n_jobs':-1,'verbosity':1}\n",
    "\n",
    "# model = xgbClassifier(dfTrain,bestParams)\n",
    "# evaluateModel(dfTest,model)"
   ]
  },
  {
   "cell_type": "code",
   "execution_count": 14,
   "id": "bfec11b6",
   "metadata": {
    "execution": {
     "iopub.execute_input": "2022-11-21T18:19:47.514201Z",
     "iopub.status.busy": "2022-11-21T18:19:47.513683Z",
     "iopub.status.idle": "2022-11-21T18:19:47.521344Z",
     "shell.execute_reply": "2022-11-21T18:19:47.519456Z"
    },
    "papermill": {
     "duration": 0.017722,
     "end_time": "2022-11-21T18:19:47.524176",
     "exception": false,
     "start_time": "2022-11-21T18:19:47.506454",
     "status": "completed"
    },
    "tags": []
   },
   "outputs": [],
   "source": [
    "# n_estimator=550,verbosity=1,n_jobs=-1,reg_alpha=8.0,colsample_bytree=0.8,\n",
    "# learning_rate=0.17500000000000002,gamma=0.6000000000000001,\n",
    "# reg_lambda=1.20000000000000001,max_depth=10,min_child_weight=1.0,scale_pos_weight=60.0,\n",
    "# subsample=0.700000000000001,objective='binary:logistic'\n",
    "\n",
    "\n",
    "# model = xgbClassifier(dfTrain)\n",
    "# evaluateModel(dfTest,model)"
   ]
  },
  {
   "cell_type": "code",
   "execution_count": null,
   "id": "ce98f418",
   "metadata": {
    "papermill": {
     "duration": 0.004787,
     "end_time": "2022-11-21T18:19:47.534299",
     "exception": false,
     "start_time": "2022-11-21T18:19:47.529512",
     "status": "completed"
    },
    "tags": []
   },
   "outputs": [],
   "source": []
  }
 ],
 "metadata": {
  "kernelspec": {
   "display_name": "Python 3",
   "language": "python",
   "name": "python3"
  },
  "language_info": {
   "codemirror_mode": {
    "name": "ipython",
    "version": 3
   },
   "file_extension": ".py",
   "mimetype": "text/x-python",
   "name": "python",
   "nbconvert_exporter": "python",
   "pygments_lexer": "ipython3",
   "version": "3.7.12"
  },
  "papermill": {
   "default_parameters": {},
   "duration": 22557.636272,
   "end_time": "2022-11-21T18:19:48.600948",
   "environment_variables": {},
   "exception": null,
   "input_path": "__notebook__.ipynb",
   "output_path": "__notebook__.ipynb",
   "parameters": {},
   "start_time": "2022-11-21T12:03:50.964676",
   "version": "2.3.4"
  }
 },
 "nbformat": 4,
 "nbformat_minor": 5
}
